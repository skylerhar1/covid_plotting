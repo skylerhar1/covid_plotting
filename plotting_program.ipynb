{
 "cells": [
  {
   "cell_type": "code",
   "execution_count": 7,
   "id": "capable-dublin",
   "metadata": {},
   "outputs": [
    {
     "name": "stdout",
     "output_type": "stream",
     "text": [
      "                              mean\n",
      "state                             \n",
      "Northern Mariana Islands  0.766034\n",
      "Hawaii                    5.472125\n",
      "Virgin Islands            7.119906\n",
      "                   mean\n",
      "state                  \n",
      "North Dakota  32.764112\n",
      "South Dakota  32.489231\n",
      "Rhode Island  32.331142\n"
     ]
    },
    {
     "data": {
      "text/plain": [
       "\"\\nmax_mean = (mean_df['mean'].agg(['max']))[0]\\nmax_state = mean_df[mean_df['mean']==max_mean]\\n\\nmin_mean = (mean_df['mean'].agg(['min']))[0]\\nmin_state = mean_df[mean_df['mean']==min_mean]\\ndataframe.drop(dataframe[dataframe.state == min_state])\\nprint(max_state)\\nprint(min_state)\\n\""
      ]
     },
     "execution_count": 7,
     "metadata": {},
     "output_type": "execute_result"
    }
   ],
   "source": [
    "#Code that should make plot\n",
    "#import covid_plot\n",
    "import pandas as pd\n",
    "\n",
    "dataframe = pd.read_csv('/home/shared_data/covid-19-data/rolling-averages/us-states.csv')\n",
    "\n",
    "\n",
    "mean_df = dataframe.groupby('state').cases_avg_per_100k.agg(['mean'])\n",
    "largest_states = mean_df.nlargest(3,'mean')\n",
    "smallest_states = mean_df.nsmallest(3,'mean')\n",
    "print(smallest_states)\n",
    "print(largest_states)\n",
    "#print(mean_df)\n",
    "\"\"\"\n",
    "max_mean = (mean_df['mean'].agg(['max']))[0]\n",
    "max_state = mean_df[mean_df['mean']==max_mean]\n",
    "\n",
    "min_mean = (mean_df['mean'].agg(['min']))[0]\n",
    "min_state = mean_df[mean_df['mean']==min_mean]\n",
    "dataframe.drop(dataframe[dataframe.state == min_state])\n",
    "print(max_state)\n",
    "print(min_state)\n",
    "\"\"\"\n",
    "#print(mean_df)\n",
    "\n",
    "\n",
    "\n",
    "\n"
   ]
  },
  {
   "cell_type": "code",
   "execution_count": null,
   "id": "based-christopher",
   "metadata": {},
   "outputs": [],
   "source": [
    "df=covid_plot.read_in_data(filename)\n",
    "low_states,high_states=covid_plot.get_extreme_states(df)\n",
    "\n",
    "#Choose any three states that you like\n",
    "states=['Oregon','California','Texas']\n",
    "ax,cr_state=covid_plot.make_plot(df,states)\n",
    "covid_plot.modify_plot(ax)\n",
    "ax,cr_state=covid_plot.make_plot(df,low_states)\n",
    "covid_plot.modify_plot(ax)\n",
    "ax,cr_state=covid_plot.make_plot(df,high_states)\n",
    "covid_plot.modify_plot(ax)\n"
   ]
  }
 ],
 "metadata": {
  "kernelspec": {
   "display_name": "Python 3",
   "language": "python",
   "name": "python3"
  },
  "language_info": {
   "codemirror_mode": {
    "name": "ipython",
    "version": 3
   },
   "file_extension": ".py",
   "mimetype": "text/x-python",
   "name": "python",
   "nbconvert_exporter": "python",
   "pygments_lexer": "ipython3",
   "version": "3.7.9"
  }
 },
 "nbformat": 4,
 "nbformat_minor": 5
}
