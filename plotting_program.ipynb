{
 "cells": [
  {
   "cell_type": "code",
   "execution_count": 31,
   "id": "interpreted-cycling",
   "metadata": {},
   "outputs": [
    {
     "ename": "SyntaxError",
     "evalue": "invalid syntax (<ipython-input-31-47c542ce44d4>, line 15)",
     "output_type": "error",
     "traceback": [
      "\u001b[0;36m  File \u001b[0;32m\"<ipython-input-31-47c542ce44d4>\"\u001b[0;36m, line \u001b[0;32m15\u001b[0m\n\u001b[0;31m    print(smallest_states.state)\u001b[0m\n\u001b[0m        ^\u001b[0m\n\u001b[0;31mSyntaxError\u001b[0m\u001b[0;31m:\u001b[0m invalid syntax\n"
     ]
    }
   ],
   "source": [
    "#Code that should make plot\n",
    "#import covid_plot\n",
    "import pandas as pd\n",
    "\n",
    "dataframe = pd.read_csv('/home/shared_data/covid-19-data/rolling-averages/us-states.csv')\n",
    "\n",
    "\n",
    "mean_df = dataframe.groupby('state').cases_avg_per_100k.agg(['mean'])\n",
    "largest_states = mean_df.nlargest(3,'mean')\n",
    "smallest_states = mean_df.nsmallest(3,'mean')\n",
    "largest_states.reset_index(inplace=True)\n",
    "largest_states = largest_states.rename(columns = {'index':'state'})\n",
    "smallest_states.reset_index(inplace=True)\n",
    "smallest_states = smallest_states.rename(columns = {'index':'state'}\n",
    "print(smallest_states.state)\n",
    "print(largest_states.state)\n",
    "\n",
    "\n",
    "\n",
    "\n",
    "\n"
   ]
  },
  {
   "cell_type": "code",
   "execution_count": null,
   "id": "excited-designer",
   "metadata": {},
   "outputs": [],
   "source": [
    "df=covid_plot.read_in_data(filename)\n",
    "low_states,high_states=covid_plot.get_extreme_states(df)\n",
    "\n",
    "#Choose any three states that you like\n",
    "states=['Oregon','California','Texas']\n",
    "ax,cr_state=covid_plot.make_plot(df,states)\n",
    "covid_plot.modify_plot(ax)\n",
    "ax,cr_state=covid_plot.make_plot(df,low_states)\n",
    "covid_plot.modify_plot(ax)\n",
    "ax,cr_state=covid_plot.make_plot(df,high_states)\n",
    "covid_plot.modify_plot(ax)\n"
   ]
  }
 ],
 "metadata": {
  "kernelspec": {
   "display_name": "Python 3",
   "language": "python",
   "name": "python3"
  },
  "language_info": {
   "codemirror_mode": {
    "name": "ipython",
    "version": 3
   },
   "file_extension": ".py",
   "mimetype": "text/x-python",
   "name": "python",
   "nbconvert_exporter": "python",
   "pygments_lexer": "ipython3",
   "version": "3.7.9"
  }
 },
 "nbformat": 4,
 "nbformat_minor": 5
}
